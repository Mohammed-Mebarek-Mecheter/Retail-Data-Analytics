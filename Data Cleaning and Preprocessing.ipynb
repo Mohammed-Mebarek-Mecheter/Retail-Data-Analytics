{
 "cells": [
  {
   "cell_type": "code",
   "execution_count": 1,
   "id": "initial_id",
   "metadata": {
    "collapsed": true,
    "ExecuteTime": {
     "end_time": "2023-09-19T16:38:26.142227800Z",
     "start_time": "2023-09-19T16:38:24.724798700Z"
    }
   },
   "outputs": [],
   "source": [
    "import pandas as pd"
   ]
  },
  {
   "cell_type": "code",
   "execution_count": 11,
   "outputs": [],
   "source": [
    "# Read the datasets\n",
    "stores_df = pd.read_csv('data/stores data-set.csv')\n",
    "sales_df = pd.read_csv('data/sales data-set.csv')"
   ],
   "metadata": {
    "collapsed": false,
    "ExecuteTime": {
     "end_time": "2023-09-19T16:55:52.430913300Z",
     "start_time": "2023-09-19T16:55:52.086128900Z"
    }
   },
   "id": "5a2cfdf842dbefe9"
  },
  {
   "cell_type": "code",
   "execution_count": 3,
   "outputs": [
    {
     "name": "stdout",
     "output_type": "stream",
     "text": [
      "Missing Values in 'Type' Column: 0\n",
      "Missing Values in 'Size' Column: 0\n"
     ]
    }
   ],
   "source": [
    "# Check for missing values in the 'Type' and 'Size' columns\n",
    "missing_type = stores_df['Type'].isnull().sum()\n",
    "missing_size = stores_df['Size'].isnull().sum()\n",
    "\n",
    "print(\"Missing Values in 'Type' Column:\", missing_type)\n",
    "print(\"Missing Values in 'Size' Column:\", missing_size)"
   ],
   "metadata": {
    "collapsed": false,
    "ExecuteTime": {
     "end_time": "2023-09-19T16:40:26.317933400Z",
     "start_time": "2023-09-19T16:40:26.290701Z"
    }
   },
   "id": "fdb108f5f7b9ff45"
  },
  {
   "cell_type": "code",
   "execution_count": 4,
   "outputs": [
    {
     "data": {
      "text/plain": "Store     int64\nType     object\nSize      int64\ndtype: object"
     },
     "execution_count": 4,
     "metadata": {},
     "output_type": "execute_result"
    }
   ],
   "source": [
    "stores_df.dtypes"
   ],
   "metadata": {
    "collapsed": false,
    "ExecuteTime": {
     "end_time": "2023-09-19T16:42:25.134431400Z",
     "start_time": "2023-09-19T16:42:25.083001700Z"
    }
   },
   "id": "227ddf5455848b59"
  },
  {
   "cell_type": "code",
   "execution_count": 5,
   "outputs": [
    {
     "name": "stdout",
     "output_type": "stream",
     "text": [
      "Data Types after Conversion:\n",
      "Store       int64\n",
      "Type     category\n",
      "Size        int64\n",
      "dtype: object\n"
     ]
    }
   ],
   "source": [
    "# Convert the 'Size' column to numeric data type\n",
    "stores_df['Size'] = pd.to_numeric(stores_df['Size'], errors='coerce')\n",
    "\n",
    "# Convert the 'Type' column to categorical data type\n",
    "stores_df['Type'] = stores_df['Type'].astype('category')\n",
    "\n",
    "# Check the data types after conversion\n",
    "print(\"Data Types after Conversion:\")\n",
    "print(stores_df.dtypes)"
   ],
   "metadata": {
    "collapsed": false,
    "ExecuteTime": {
     "end_time": "2023-09-19T16:43:06.684643600Z",
     "start_time": "2023-09-19T16:43:06.613570100Z"
    }
   },
   "id": "2453c5f83843322f"
  },
  {
   "cell_type": "code",
   "execution_count": 6,
   "outputs": [
    {
     "name": "stdout",
     "output_type": "stream",
     "text": [
      "Duplicate Rows:\n",
      "Empty DataFrame\n",
      "Columns: [Store, Type, Size]\n",
      "Index: []\n"
     ]
    }
   ],
   "source": [
    "# Check for duplicate rows\n",
    "duplicate_rows = stores_df[stores_df.duplicated()]\n",
    "print(\"Duplicate Rows:\")\n",
    "print(duplicate_rows)"
   ],
   "metadata": {
    "collapsed": false,
    "ExecuteTime": {
     "end_time": "2023-09-19T16:44:46.612980800Z",
     "start_time": "2023-09-19T16:44:46.574601900Z"
    }
   },
   "id": "e53a26a77e9ceacf"
  },
  {
   "cell_type": "code",
   "execution_count": 7,
   "outputs": [
    {
     "name": "stdout",
     "output_type": "stream",
     "text": [
      "Unique Store Types:\n",
      "['A', 'B', 'C']\n",
      "Categories (3, object): ['A', 'B', 'C']\n"
     ]
    }
   ],
   "source": [
    "# Check unique store types\n",
    "unique_store_types = stores_df['Type'].unique()\n",
    "print(\"Unique Store Types:\")\n",
    "print(unique_store_types)"
   ],
   "metadata": {
    "collapsed": false,
    "ExecuteTime": {
     "end_time": "2023-09-19T16:45:00.698629900Z",
     "start_time": "2023-09-19T16:45:00.630562700Z"
    }
   },
   "id": "b54dedc7dc004d21"
  },
  {
   "cell_type": "code",
   "execution_count": 8,
   "outputs": [
    {
     "name": "stdout",
     "output_type": "stream",
     "text": [
      "Unique Store Numbers:\n",
      "[ 1  2  3  4  5  6  7  8  9 10 11 12 13 14 15 16 17 18 19 20 21 22 23 24\n",
      " 25 26 27 28 29 30 31 32 33 34 35 36 37 38 39 40 41 42 43 44 45]\n"
     ]
    }
   ],
   "source": [
    "# Check for unique store numbers\n",
    "unique_store_numbers = stores_df['Store'].unique()\n",
    "print(\"Unique Store Numbers:\")\n",
    "print(unique_store_numbers)"
   ],
   "metadata": {
    "collapsed": false,
    "ExecuteTime": {
     "end_time": "2023-09-19T16:45:21.342682400Z",
     "start_time": "2023-09-19T16:45:21.313654800Z"
    }
   },
   "id": "7e17347819ef8d86"
  },
  {
   "cell_type": "code",
   "execution_count": 9,
   "outputs": [],
   "source": [
    "stores_df.to_csv('modified_stores_data.csv', index=False)"
   ],
   "metadata": {
    "collapsed": false,
    "ExecuteTime": {
     "end_time": "2023-09-19T16:48:32.576561Z",
     "start_time": "2023-09-19T16:48:32.541216300Z"
    }
   },
   "id": "865021c67625dadb"
  },
  {
   "cell_type": "code",
   "execution_count": 12,
   "outputs": [
    {
     "name": "stdout",
     "output_type": "stream",
     "text": [
      "Duplicate Rows:\n",
      "Empty DataFrame\n",
      "Columns: [Store, Dept, Date, Weekly_Sales, IsHoliday]\n",
      "Index: []\n"
     ]
    }
   ],
   "source": [
    "# Check for and remove duplicate rows\n",
    "duplicate_rows = sales_df[sales_df.duplicated()]\n",
    "print(\"Duplicate Rows:\")\n",
    "print(duplicate_rows)"
   ],
   "metadata": {
    "collapsed": false,
    "ExecuteTime": {
     "end_time": "2023-09-19T16:55:58.532584500Z",
     "start_time": "2023-09-19T16:55:58.348062400Z"
    }
   },
   "id": "4a5ddd940e97b9e0"
  },
  {
   "cell_type": "code",
   "execution_count": 13,
   "outputs": [
    {
     "name": "stdout",
     "output_type": "stream",
     "text": [
      "Missing Values in Critical Columns:\n",
      "Weekly_Sales    0\n",
      "Store           0\n",
      "Dept            0\n",
      "Date            0\n",
      "dtype: int64\n"
     ]
    }
   ],
   "source": [
    "# Check for missing values in critical columns\n",
    "missing_values = sales_df[['Weekly_Sales', 'Store', 'Dept', 'Date']].isnull().sum()\n",
    "\n",
    "print(\"Missing Values in Critical Columns:\")\n",
    "print(missing_values)"
   ],
   "metadata": {
    "collapsed": false,
    "ExecuteTime": {
     "end_time": "2023-09-19T16:56:54.642014600Z",
     "start_time": "2023-09-19T16:56:54.351439400Z"
    }
   },
   "id": "10ecdfa5255bc33c"
  }
 ],
 "metadata": {
  "kernelspec": {
   "display_name": "Python 3",
   "language": "python",
   "name": "python3"
  },
  "language_info": {
   "codemirror_mode": {
    "name": "ipython",
    "version": 2
   },
   "file_extension": ".py",
   "mimetype": "text/x-python",
   "name": "python",
   "nbconvert_exporter": "python",
   "pygments_lexer": "ipython2",
   "version": "2.7.6"
  }
 },
 "nbformat": 4,
 "nbformat_minor": 5
}
