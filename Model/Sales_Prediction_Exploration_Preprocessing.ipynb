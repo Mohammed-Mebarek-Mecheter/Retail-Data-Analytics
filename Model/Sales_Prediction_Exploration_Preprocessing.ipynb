{
 "cells": [
  {
   "cell_type": "code",
   "execution_count": 8,
   "id": "initial_id",
   "metadata": {
    "collapsed": true,
    "ExecuteTime": {
     "end_time": "2023-09-19T19:51:55.295251700Z",
     "start_time": "2023-09-19T19:51:52.142742100Z"
    }
   },
   "outputs": [],
   "source": [
    "import pandas as pd\n",
    "from sklearn.model_selection import train_test_split"
   ]
  },
  {
   "cell_type": "code",
   "execution_count": 2,
   "outputs": [],
   "source": [
    "# Load the cleaned datasets\n",
    "sales_data = pd.read_csv('../data/sales data-set.csv')\n",
    "stores_data = pd.read_csv('../data/modified_stores_data.csv')\n",
    "features_data = pd.read_csv('../data/Features data set.csv')"
   ],
   "metadata": {
    "collapsed": false,
    "ExecuteTime": {
     "end_time": "2023-09-19T19:42:11.304395100Z",
     "start_time": "2023-09-19T19:42:10.986102Z"
    }
   },
   "id": "541afd7242e29c49"
  },
  {
   "cell_type": "code",
   "execution_count": 3,
   "outputs": [
    {
     "data": {
      "text/plain": "   Store  Dept        Date  Weekly_Sales  IsHoliday\n0      1     1  05/02/2010      24924.50      False\n1      1     1  12/02/2010      46039.49       True\n2      1     1  19/02/2010      41595.55      False\n3      1     1  26/02/2010      19403.54      False\n4      1     1  05/03/2010      21827.90      False",
      "text/html": "<div>\n<style scoped>\n    .dataframe tbody tr th:only-of-type {\n        vertical-align: middle;\n    }\n\n    .dataframe tbody tr th {\n        vertical-align: top;\n    }\n\n    .dataframe thead th {\n        text-align: right;\n    }\n</style>\n<table border=\"1\" class=\"dataframe\">\n  <thead>\n    <tr style=\"text-align: right;\">\n      <th></th>\n      <th>Store</th>\n      <th>Dept</th>\n      <th>Date</th>\n      <th>Weekly_Sales</th>\n      <th>IsHoliday</th>\n    </tr>\n  </thead>\n  <tbody>\n    <tr>\n      <th>0</th>\n      <td>1</td>\n      <td>1</td>\n      <td>05/02/2010</td>\n      <td>24924.50</td>\n      <td>False</td>\n    </tr>\n    <tr>\n      <th>1</th>\n      <td>1</td>\n      <td>1</td>\n      <td>12/02/2010</td>\n      <td>46039.49</td>\n      <td>True</td>\n    </tr>\n    <tr>\n      <th>2</th>\n      <td>1</td>\n      <td>1</td>\n      <td>19/02/2010</td>\n      <td>41595.55</td>\n      <td>False</td>\n    </tr>\n    <tr>\n      <th>3</th>\n      <td>1</td>\n      <td>1</td>\n      <td>26/02/2010</td>\n      <td>19403.54</td>\n      <td>False</td>\n    </tr>\n    <tr>\n      <th>4</th>\n      <td>1</td>\n      <td>1</td>\n      <td>05/03/2010</td>\n      <td>21827.90</td>\n      <td>False</td>\n    </tr>\n  </tbody>\n</table>\n</div>"
     },
     "execution_count": 3,
     "metadata": {},
     "output_type": "execute_result"
    }
   ],
   "source": [
    "sales_data.head()"
   ],
   "metadata": {
    "collapsed": false,
    "ExecuteTime": {
     "end_time": "2023-09-19T19:42:23.932937500Z",
     "start_time": "2023-09-19T19:42:23.899427300Z"
    }
   },
   "id": "b1fe7ca9764049b5"
  },
  {
   "cell_type": "code",
   "execution_count": 4,
   "outputs": [
    {
     "data": {
      "text/plain": "   Store Type    Size\n0      1    A  151315\n1      2    A  202307\n2      3    B   37392\n3      4    A  205863\n4      5    B   34875",
      "text/html": "<div>\n<style scoped>\n    .dataframe tbody tr th:only-of-type {\n        vertical-align: middle;\n    }\n\n    .dataframe tbody tr th {\n        vertical-align: top;\n    }\n\n    .dataframe thead th {\n        text-align: right;\n    }\n</style>\n<table border=\"1\" class=\"dataframe\">\n  <thead>\n    <tr style=\"text-align: right;\">\n      <th></th>\n      <th>Store</th>\n      <th>Type</th>\n      <th>Size</th>\n    </tr>\n  </thead>\n  <tbody>\n    <tr>\n      <th>0</th>\n      <td>1</td>\n      <td>A</td>\n      <td>151315</td>\n    </tr>\n    <tr>\n      <th>1</th>\n      <td>2</td>\n      <td>A</td>\n      <td>202307</td>\n    </tr>\n    <tr>\n      <th>2</th>\n      <td>3</td>\n      <td>B</td>\n      <td>37392</td>\n    </tr>\n    <tr>\n      <th>3</th>\n      <td>4</td>\n      <td>A</td>\n      <td>205863</td>\n    </tr>\n    <tr>\n      <th>4</th>\n      <td>5</td>\n      <td>B</td>\n      <td>34875</td>\n    </tr>\n  </tbody>\n</table>\n</div>"
     },
     "execution_count": 4,
     "metadata": {},
     "output_type": "execute_result"
    }
   ],
   "source": [
    "stores_data.head()"
   ],
   "metadata": {
    "collapsed": false,
    "ExecuteTime": {
     "end_time": "2023-09-19T19:42:35.023201800Z",
     "start_time": "2023-09-19T19:42:34.977713700Z"
    }
   },
   "id": "8c1d3cf0ae44bed1"
  },
  {
   "cell_type": "code",
   "execution_count": 5,
   "outputs": [
    {
     "data": {
      "text/plain": "   Store        Date  Temperature  Fuel_Price  MarkDown1  MarkDown2  \\\n0      1  05/02/2010        42.31       2.572        NaN        NaN   \n1      1  12/02/2010        38.51       2.548        NaN        NaN   \n2      1  19/02/2010        39.93       2.514        NaN        NaN   \n3      1  26/02/2010        46.63       2.561        NaN        NaN   \n4      1  05/03/2010        46.50       2.625        NaN        NaN   \n\n   MarkDown3  MarkDown4  MarkDown5         CPI  Unemployment  IsHoliday  \n0        NaN        NaN        NaN  211.096358         8.106      False  \n1        NaN        NaN        NaN  211.242170         8.106       True  \n2        NaN        NaN        NaN  211.289143         8.106      False  \n3        NaN        NaN        NaN  211.319643         8.106      False  \n4        NaN        NaN        NaN  211.350143         8.106      False  ",
      "text/html": "<div>\n<style scoped>\n    .dataframe tbody tr th:only-of-type {\n        vertical-align: middle;\n    }\n\n    .dataframe tbody tr th {\n        vertical-align: top;\n    }\n\n    .dataframe thead th {\n        text-align: right;\n    }\n</style>\n<table border=\"1\" class=\"dataframe\">\n  <thead>\n    <tr style=\"text-align: right;\">\n      <th></th>\n      <th>Store</th>\n      <th>Date</th>\n      <th>Temperature</th>\n      <th>Fuel_Price</th>\n      <th>MarkDown1</th>\n      <th>MarkDown2</th>\n      <th>MarkDown3</th>\n      <th>MarkDown4</th>\n      <th>MarkDown5</th>\n      <th>CPI</th>\n      <th>Unemployment</th>\n      <th>IsHoliday</th>\n    </tr>\n  </thead>\n  <tbody>\n    <tr>\n      <th>0</th>\n      <td>1</td>\n      <td>05/02/2010</td>\n      <td>42.31</td>\n      <td>2.572</td>\n      <td>NaN</td>\n      <td>NaN</td>\n      <td>NaN</td>\n      <td>NaN</td>\n      <td>NaN</td>\n      <td>211.096358</td>\n      <td>8.106</td>\n      <td>False</td>\n    </tr>\n    <tr>\n      <th>1</th>\n      <td>1</td>\n      <td>12/02/2010</td>\n      <td>38.51</td>\n      <td>2.548</td>\n      <td>NaN</td>\n      <td>NaN</td>\n      <td>NaN</td>\n      <td>NaN</td>\n      <td>NaN</td>\n      <td>211.242170</td>\n      <td>8.106</td>\n      <td>True</td>\n    </tr>\n    <tr>\n      <th>2</th>\n      <td>1</td>\n      <td>19/02/2010</td>\n      <td>39.93</td>\n      <td>2.514</td>\n      <td>NaN</td>\n      <td>NaN</td>\n      <td>NaN</td>\n      <td>NaN</td>\n      <td>NaN</td>\n      <td>211.289143</td>\n      <td>8.106</td>\n      <td>False</td>\n    </tr>\n    <tr>\n      <th>3</th>\n      <td>1</td>\n      <td>26/02/2010</td>\n      <td>46.63</td>\n      <td>2.561</td>\n      <td>NaN</td>\n      <td>NaN</td>\n      <td>NaN</td>\n      <td>NaN</td>\n      <td>NaN</td>\n      <td>211.319643</td>\n      <td>8.106</td>\n      <td>False</td>\n    </tr>\n    <tr>\n      <th>4</th>\n      <td>1</td>\n      <td>05/03/2010</td>\n      <td>46.50</td>\n      <td>2.625</td>\n      <td>NaN</td>\n      <td>NaN</td>\n      <td>NaN</td>\n      <td>NaN</td>\n      <td>NaN</td>\n      <td>211.350143</td>\n      <td>8.106</td>\n      <td>False</td>\n    </tr>\n  </tbody>\n</table>\n</div>"
     },
     "execution_count": 5,
     "metadata": {},
     "output_type": "execute_result"
    }
   ],
   "source": [
    "features_data.head()"
   ],
   "metadata": {
    "collapsed": false,
    "ExecuteTime": {
     "end_time": "2023-09-19T19:42:46.806814300Z",
     "start_time": "2023-09-19T19:42:46.754803500Z"
    }
   },
   "id": "15647b66a842f5ba"
  },
  {
   "cell_type": "code",
   "execution_count": 6,
   "outputs": [
    {
     "name": "stdout",
     "output_type": "stream",
     "text": [
      "Updated Sales Data:\n",
      "   Store  Dept       Date  Weekly_Sales  IsHoliday  Year  Month  Day  Weekday  \\\n",
      "0      1     1 2010-02-05      24924.50      False  2010      2    5        4   \n",
      "1      1     1 2010-02-12      46039.49       True  2010      2   12        4   \n",
      "2      1     1 2010-02-19      41595.55      False  2010      2   19        4   \n",
      "3      1     1 2010-02-26      19403.54      False  2010      2   26        4   \n",
      "4      1     1 2010-03-05      21827.90      False  2010      3    5        4   \n",
      "\n",
      "   Quarter  \n",
      "0        1  \n",
      "1        1  \n",
      "2        1  \n",
      "3        1  \n",
      "4        1  \n"
     ]
    }
   ],
   "source": [
    "# Convert the 'Date' column to a datetime data type\n",
    "sales_data['Date'] = pd.to_datetime(sales_data['Date'], format='%d/%m/%Y')\n",
    "\n",
    "# Extract date-related features\n",
    "sales_data['Year'] = sales_data['Date'].dt.year\n",
    "sales_data['Month'] = sales_data['Date'].dt.month\n",
    "sales_data['Day'] = sales_data['Date'].dt.day\n",
    "sales_data['Weekday'] = sales_data['Date'].dt.weekday  # Monday = 0, Sunday = 6\n",
    "sales_data['Quarter'] = sales_data['Date'].dt.quarter\n",
    "\n",
    "# Display the updated dataset with new features\n",
    "print(\"Updated Sales Data:\")\n",
    "print(sales_data.head())"
   ],
   "metadata": {
    "collapsed": false,
    "ExecuteTime": {
     "end_time": "2023-09-19T19:43:01.011932800Z",
     "start_time": "2023-09-19T19:43:00.577931200Z"
    }
   },
   "id": "4fbcff2ac05d1f4f"
  },
  {
   "cell_type": "code",
   "execution_count": 7,
   "outputs": [
    {
     "name": "stdout",
     "output_type": "stream",
     "text": [
      "Updated Features Data:\n",
      "   Store        Date  Temperature  Fuel_Price  MarkDown1  MarkDown2  \\\n",
      "0      1  05/02/2010        42.31       2.572        NaN        NaN   \n",
      "1      1  12/02/2010        38.51       2.548        NaN        NaN   \n",
      "2      1  19/02/2010        39.93       2.514        NaN        NaN   \n",
      "3      1  26/02/2010        46.63       2.561        NaN        NaN   \n",
      "4      1  05/03/2010        46.50       2.625        NaN        NaN   \n",
      "\n",
      "   MarkDown3  MarkDown4  MarkDown5         CPI  Unemployment  IsHoliday  \\\n",
      "0        NaN        NaN        NaN  211.096358         8.106      False   \n",
      "1        NaN        NaN        NaN  211.242170         8.106       True   \n",
      "2        NaN        NaN        NaN  211.289143         8.106      False   \n",
      "3        NaN        NaN        NaN  211.319643         8.106      False   \n",
      "4        NaN        NaN        NaN  211.350143         8.106      False   \n",
      "\n",
      "   MarkDown1_Event  MarkDown2_Event  MarkDown3_Event  MarkDown4_Event  \\\n",
      "0                0                0                0                0   \n",
      "1                0                0                0                0   \n",
      "2                0                0                0                0   \n",
      "3                0                0                0                0   \n",
      "4                0                0                0                0   \n",
      "\n",
      "   MarkDown5_Event  \n",
      "0                0  \n",
      "1                0  \n",
      "2                0  \n",
      "3                0  \n",
      "4                0  \n"
     ]
    }
   ],
   "source": [
    "# Create binary features for each markdown event\n",
    "for i in range(1, 6):\n",
    "    features_data[f'MarkDown{i}_Event'] = features_data[f'MarkDown{i}'].apply(lambda x: 1 if x > 0 else 0)\n",
    "\n",
    "# Display the updated features dataset with binary features\n",
    "print(\"Updated Features Data:\")\n",
    "print(features_data.head())"
   ],
   "metadata": {
    "collapsed": false,
    "ExecuteTime": {
     "end_time": "2023-09-19T19:45:39.886218Z",
     "start_time": "2023-09-19T19:45:39.806401400Z"
    }
   },
   "id": "74cf2de25e81c17a"
  },
  {
   "cell_type": "code",
   "execution_count": 14,
   "outputs": [
    {
     "name": "stdout",
     "output_type": "stream",
     "text": [
      "Training set shape - X: (337256, 19) y: (337256,)\n",
      "Testing set shape - X: (84314, 19) y: (84314,)\n"
     ]
    }
   ],
   "source": [
    "# Concatenate the DataFrames along the rows\n",
    "merged_data = pd.concat([sales_data, features_data], axis=1)\n",
    "\n",
    "# Define your features (X) and target variable (y) based on the merged data\n",
    "X = merged_data[['Store', 'Dept', 'Year', 'Month', 'Day', 'Weekday', 'Quarter', 'Temperature', 'Fuel_Price', 'CPI', 'Unemployment', 'IsHoliday', 'MarkDown1_Event', 'MarkDown2_Event', 'MarkDown3_Event', 'MarkDown4_Event', 'MarkDown5_Event']]\n",
    "y = merged_data['Weekly_Sales']\n",
    "\n",
    "# Split the merged data into training and testing sets\n",
    "X_train, X_test, y_train, y_test = train_test_split(X, y, test_size=0.2, random_state=42)\n",
    "\n",
    "# Display the shapes of the training and testing sets\n",
    "print(\"Training set shape - X:\", X_train.shape, \"y:\", y_train.shape)\n",
    "print(\"Testing set shape - X:\", X_test.shape, \"y:\", y_test.shape)"
   ],
   "metadata": {
    "collapsed": false,
    "ExecuteTime": {
     "end_time": "2023-09-19T20:20:08.334079400Z",
     "start_time": "2023-09-19T20:20:07.574806700Z"
    }
   },
   "id": "bcb082cbf2e40a2c"
  },
  {
   "cell_type": "code",
   "execution_count": 1,
   "outputs": [],
   "source": [],
   "metadata": {
    "collapsed": false,
    "ExecuteTime": {
     "end_time": "2023-09-19T21:11:50.863863Z",
     "start_time": "2023-09-19T21:11:47.583032700Z"
    }
   },
   "id": "42fe377de9523bd2"
  }
 ],
 "metadata": {
  "kernelspec": {
   "display_name": "Python 3",
   "language": "python",
   "name": "python3"
  },
  "language_info": {
   "codemirror_mode": {
    "name": "ipython",
    "version": 2
   },
   "file_extension": ".py",
   "mimetype": "text/x-python",
   "name": "python",
   "nbconvert_exporter": "python",
   "pygments_lexer": "ipython2",
   "version": "2.7.6"
  }
 },
 "nbformat": 4,
 "nbformat_minor": 5
}
